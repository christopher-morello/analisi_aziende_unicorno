{
 "cells": [
  {
   "cell_type": "markdown",
   "metadata": {
    "id": "1WD1hC5MTRMS"
   },
   "source": [
    "# Analisi Esplorativa (EDA) sulle Aziende Unicorno\n"
   ]
  },
  {
   "cell_type": "markdown",
   "metadata": {
    "id": "ee31943b-274e-4c28-bce6-155cb6f4c334"
   },
   "source": [
    "## Introduzione\n",
    "\n",
    "Il mio compito in questa analisi è continuare l'esplorazionde del dataset di **aziende unicorno** per fornire spunti preziosi a una società di investimento.\n",
    "\n",
    "Attraverso l'**analisi esplorativa dei dati (EDA)**, mi concentrerò sulle seguenti attività:\n",
    "\n",
    "- **Caratteristiche del dataset**: Scoprirò la struttura e la natura dei dati a disposizione.\n",
    "\n",
    "- **Preparazione dei dati**: Strutturerò i dati in modo da renderli adatti a trarre conclusioni significative.\n",
    "\n",
    "**Visualizzazione**: attraverso i grafici per individuare tendenze e pattern.\n",
    "\n",
    "L'**obiettivo finale** è identificare le tendenze e i modelli più rilevanti per aiutare la società di investimento a prendere decisioni più informate sulle future acquisizioni.\n"
   ]
  },
  {
   "cell_type": "markdown",
   "metadata": {
    "id": "4bb9630e-b940-4835-a389-d39def1fa848"
   },
   "source": [
    "## Step 1: Importazione"
   ]
  },
  {
   "cell_type": "markdown",
   "metadata": {
    "id": "bc180686-4ae2-47ea-a292-3588ac60a820"
   },
   "source": [
    "### Importazione librerie e moduli"
   ]
  },
  {
   "cell_type": "code",
   "execution_count": 8,
   "metadata": {
    "id": "8e7f1f2c-bbcc-4f3c-b927-b090ee8334c4"
   },
   "outputs": [],
   "source": [
    "import pandas as pd\n",
    "import numpy as np\n",
    "import seaborn as sns\n",
    "import matplotlib.pyplot as plt"
   ]
  },
  {
   "cell_type": "markdown",
   "metadata": {
    "id": "7d29c6bd-f194-46bb-b794-56dc20130473"
   },
   "source": [
    "### Caricamento del dataset in un DataFrame"
   ]
  },
  {
   "cell_type": "code",
   "execution_count": 9,
   "metadata": {
    "id": "3bd40d44-080f-4e49-b0c2-160dedc3c4df"
   },
   "outputs": [],
   "source": [
    "companies = pd.read_csv(\"Unicorn_Companies.csv\")"
   ]
  },
  {
   "cell_type": "markdown",
   "metadata": {
    "id": "95bf39c9-d05c-4324-a40b-bc692607b61b"
   },
   "source": [
    "## Step 2: Esplorazione dei dati\n"
   ]
  },
  {
   "cell_type": "markdown",
   "metadata": {
    "id": "H_ot-KEQ_YAH"
   },
   "source": [
    "### Controllo duplicati"
   ]
  },
  {
   "cell_type": "code",
   "execution_count": 10,
   "metadata": {
    "colab": {
     "base_uri": "https://localhost:8080/"
    },
    "executionInfo": {
     "elapsed": 319,
     "status": "ok",
     "timestamp": 1661926470691,
     "user": {
      "displayName": "Kate Gallo",
      "userId": "14674822575096962937"
     },
     "user_tz": -540
    },
    "id": "3eT0fgc__MY9",
    "outputId": "eb0f515e-6739-42b1-ea99-41e26fe0b948"
   },
   "outputs": [
    {
     "name": "stdout",
     "output_type": "stream",
     "text": [
      "PRIMA\n",
      "(1074, 10)\n",
      "DOPO\n",
      "(1074, 10)\n"
     ]
    }
   ],
   "source": [
    "print(\"PRIMA\")\n",
    "print(companies.shape)\n",
    "print(\"DOPO\")\n",
    "print(companies.drop_duplicates().shape)\n"
   ]
  },
  {
   "cell_type": "markdown",
   "metadata": {
    "id": "-6S3zT-l_ydL"
   },
   "source": [
    "- Poiché la forma restituita dopo aver eliminato i duplicati è la stessa del DataFrame originale, è possibile dedurre che non ci sono valori duplicati nel set di dati."
   ]
  },
  {
   "cell_type": "markdown",
   "metadata": {
    "id": "fgD6IfeBsNW8"
   },
   "source": [
    "### Visualizzare i tipi di dati delle colonne\n",
    "\n",
    "Conoscere i tipi di dati delle colonne è utile perché indica quali tipi di analisi e aggregazione possono essere eseguiti, come una colonna può essere trasformata per adattarsi ad attività specifiche e così via."
   ]
  },
  {
   "cell_type": "code",
   "execution_count": 11,
   "metadata": {
    "colab": {
     "base_uri": "https://localhost:8080/"
    },
    "executionInfo": {
     "elapsed": 295,
     "status": "ok",
     "timestamp": 1661926480147,
     "user": {
      "displayName": "Kate Gallo",
      "userId": "14674822575096962937"
     },
     "user_tz": -540
    },
    "id": "PjO2hGK2r8vN",
    "outputId": "87a33a83-0563-45a0-b1a1-08502a1c2e63"
   },
   "outputs": [
    {
     "data": {
      "text/plain": [
       "Company             object\n",
       "Valuation           object\n",
       "Date Joined         object\n",
       "Industry            object\n",
       "City                object\n",
       "Country/Region      object\n",
       "Continent           object\n",
       "Year Founded         int64\n",
       "Funding             object\n",
       "Select Investors    object\n",
       "dtype: object"
      ]
     },
     "execution_count": 11,
     "metadata": {},
     "output_type": "execute_result"
    }
   ],
   "source": [
    "# uso il la funzione .dtypes per conoscere i tipi di dati\n",
    "companies.dtypes"
   ]
  },
  {
   "cell_type": "markdown",
   "metadata": {
    "id": "bd6573bc-2adb-410e-a85c-d6d5886d51bf"
   },
   "source": [
    "- Il tipo di dati della colonna `Year Founded` è `int64`.\n",
    "- Le altre colonne hanno il tipo di dati `object`."
   ]
  },
  {
   "cell_type": "markdown",
   "metadata": {
    "id": "1ZqTQXEN9WbW"
   },
   "source": [
    "### Ordinare i dati\n",
    "\n",
    "Ordino i dati in modo da ottenere informazioni sulla data di fondazione delle aziende."
   ]
  },
  {
   "cell_type": "code",
   "execution_count": 12,
   "metadata": {
    "colab": {
     "base_uri": "https://localhost:8080/",
     "height": 598
    },
    "executionInfo": {
     "elapsed": 336,
     "status": "ok",
     "timestamp": 1661926503101,
     "user": {
      "displayName": "Kate Gallo",
      "userId": "14674822575096962937"
     },
     "user_tz": -540
    },
    "id": "sjWPuI-xKDat",
    "outputId": "0ee403cf-4488-4abb-ff5c-15e8aa56b92f"
   },
   "outputs": [
    {
     "data": {
      "text/html": [
       "<div>\n",
       "<style scoped>\n",
       "    .dataframe tbody tr th:only-of-type {\n",
       "        vertical-align: middle;\n",
       "    }\n",
       "\n",
       "    .dataframe tbody tr th {\n",
       "        vertical-align: top;\n",
       "    }\n",
       "\n",
       "    .dataframe thead th {\n",
       "        text-align: right;\n",
       "    }\n",
       "</style>\n",
       "<table border=\"1\" class=\"dataframe\">\n",
       "  <thead>\n",
       "    <tr style=\"text-align: right;\">\n",
       "      <th></th>\n",
       "      <th>Company</th>\n",
       "      <th>Valuation</th>\n",
       "      <th>Date Joined</th>\n",
       "      <th>Industry</th>\n",
       "      <th>City</th>\n",
       "      <th>Country/Region</th>\n",
       "      <th>Continent</th>\n",
       "      <th>Year Founded</th>\n",
       "      <th>Funding</th>\n",
       "      <th>Select Investors</th>\n",
       "    </tr>\n",
       "  </thead>\n",
       "  <tbody>\n",
       "    <tr>\n",
       "      <th>782</th>\n",
       "      <td>Phantom</td>\n",
       "      <td>$1B</td>\n",
       "      <td>1/31/22</td>\n",
       "      <td>Fintech</td>\n",
       "      <td>San Francisco</td>\n",
       "      <td>United States</td>\n",
       "      <td>North America</td>\n",
       "      <td>2021</td>\n",
       "      <td>$118M</td>\n",
       "      <td>Paradigm, Andreessen Horowitz, Jump Capital</td>\n",
       "    </tr>\n",
       "    <tr>\n",
       "      <th>714</th>\n",
       "      <td>Yidian Zixun</td>\n",
       "      <td>$1B</td>\n",
       "      <td>10/17/17</td>\n",
       "      <td>Mobile &amp; telecommunications</td>\n",
       "      <td>Beijing</td>\n",
       "      <td>China</td>\n",
       "      <td>Asia</td>\n",
       "      <td>2021</td>\n",
       "      <td>$151M</td>\n",
       "      <td>Phoenix New Media, Tianjin Haihe Industry Fund</td>\n",
       "    </tr>\n",
       "    <tr>\n",
       "      <th>822</th>\n",
       "      <td>GlobalBees</td>\n",
       "      <td>$1B</td>\n",
       "      <td>12/28/21</td>\n",
       "      <td>E-commerce &amp; direct-to-consumer</td>\n",
       "      <td>New Delhi</td>\n",
       "      <td>India</td>\n",
       "      <td>Asia</td>\n",
       "      <td>2021</td>\n",
       "      <td>$185M</td>\n",
       "      <td>Chiratae Ventures, SoftBank Group, Trifecta Ca...</td>\n",
       "    </tr>\n",
       "    <tr>\n",
       "      <th>554</th>\n",
       "      <td>ClickHouse</td>\n",
       "      <td>$2B</td>\n",
       "      <td>10/28/21</td>\n",
       "      <td>Data management &amp; analytics</td>\n",
       "      <td>Portola Valley</td>\n",
       "      <td>United States</td>\n",
       "      <td>North America</td>\n",
       "      <td>2021</td>\n",
       "      <td>$300M</td>\n",
       "      <td>Lightspeed Venture Partners, Almaz Capital Par...</td>\n",
       "    </tr>\n",
       "    <tr>\n",
       "      <th>952</th>\n",
       "      <td>LayerZero Labs</td>\n",
       "      <td>$1B</td>\n",
       "      <td>3/30/22</td>\n",
       "      <td>Internet software &amp; services</td>\n",
       "      <td>New York</td>\n",
       "      <td>United States</td>\n",
       "      <td>North America</td>\n",
       "      <td>2021</td>\n",
       "      <td>$143M</td>\n",
       "      <td>Andreessen Horowitz, FTX Ventures, Tiger Globa...</td>\n",
       "    </tr>\n",
       "    <tr>\n",
       "      <th>314</th>\n",
       "      <td>Flink Food</td>\n",
       "      <td>$3B</td>\n",
       "      <td>12/1/21</td>\n",
       "      <td>E-commerce &amp; direct-to-consumer</td>\n",
       "      <td>Berlin</td>\n",
       "      <td>Germany</td>\n",
       "      <td>Europe</td>\n",
       "      <td>2021</td>\n",
       "      <td>$1B</td>\n",
       "      <td>Mubadala Capital, Bond, Prosus Ventures</td>\n",
       "    </tr>\n",
       "    <tr>\n",
       "      <th>864</th>\n",
       "      <td>Aptos</td>\n",
       "      <td>$1B</td>\n",
       "      <td>3/15/22</td>\n",
       "      <td>Internet software &amp; services</td>\n",
       "      <td>Palo Alto</td>\n",
       "      <td>United States</td>\n",
       "      <td>North America</td>\n",
       "      <td>2021</td>\n",
       "      <td>$200M</td>\n",
       "      <td>Andreessen Horowitz, Coinbase Ventures, Tiger ...</td>\n",
       "    </tr>\n",
       "    <tr>\n",
       "      <th>238</th>\n",
       "      <td>Yuga Labs</td>\n",
       "      <td>$4B</td>\n",
       "      <td>3/22/22</td>\n",
       "      <td>Fintech</td>\n",
       "      <td>Miami</td>\n",
       "      <td>United States</td>\n",
       "      <td>North America</td>\n",
       "      <td>2021</td>\n",
       "      <td>$450M</td>\n",
       "      <td>Andreessen Horowitz, Thrive Capital, Sound Ven...</td>\n",
       "    </tr>\n",
       "    <tr>\n",
       "      <th>775</th>\n",
       "      <td>Jokr</td>\n",
       "      <td>$1B</td>\n",
       "      <td>12/2/21</td>\n",
       "      <td>E-commerce &amp; direct-to-consumer</td>\n",
       "      <td>New York</td>\n",
       "      <td>United States</td>\n",
       "      <td>North America</td>\n",
       "      <td>2021</td>\n",
       "      <td>$430M</td>\n",
       "      <td>GGV Capital, Tiger Global Management, Greycroft</td>\n",
       "    </tr>\n",
       "    <tr>\n",
       "      <th>967</th>\n",
       "      <td>Mensa Brands</td>\n",
       "      <td>$1B</td>\n",
       "      <td>11/16/21</td>\n",
       "      <td>Other</td>\n",
       "      <td>Bengaluru</td>\n",
       "      <td>India</td>\n",
       "      <td>Asia</td>\n",
       "      <td>2021</td>\n",
       "      <td>$218M</td>\n",
       "      <td>Accel, Falcon Edge Capital, Norwest Venture Pa...</td>\n",
       "    </tr>\n",
       "  </tbody>\n",
       "</table>\n",
       "</div>"
      ],
      "text/plain": [
       "            Company Valuation Date Joined                         Industry  \\\n",
       "782         Phantom       $1B     1/31/22                          Fintech   \n",
       "714    Yidian Zixun       $1B    10/17/17      Mobile & telecommunications   \n",
       "822      GlobalBees       $1B    12/28/21  E-commerce & direct-to-consumer   \n",
       "554      ClickHouse       $2B    10/28/21      Data management & analytics   \n",
       "952  LayerZero Labs       $1B     3/30/22     Internet software & services   \n",
       "314      Flink Food       $3B     12/1/21  E-commerce & direct-to-consumer   \n",
       "864           Aptos       $1B     3/15/22     Internet software & services   \n",
       "238       Yuga Labs       $4B     3/22/22                          Fintech   \n",
       "775            Jokr       $1B     12/2/21  E-commerce & direct-to-consumer   \n",
       "967    Mensa Brands       $1B    11/16/21                            Other   \n",
       "\n",
       "               City Country/Region      Continent  Year Founded Funding  \\\n",
       "782   San Francisco  United States  North America          2021   $118M   \n",
       "714         Beijing          China           Asia          2021   $151M   \n",
       "822       New Delhi          India           Asia          2021   $185M   \n",
       "554  Portola Valley  United States  North America          2021   $300M   \n",
       "952        New York  United States  North America          2021   $143M   \n",
       "314          Berlin        Germany         Europe          2021     $1B   \n",
       "864       Palo Alto  United States  North America          2021   $200M   \n",
       "238           Miami  United States  North America          2021   $450M   \n",
       "775        New York  United States  North America          2021   $430M   \n",
       "967       Bengaluru          India           Asia          2021   $218M   \n",
       "\n",
       "                                      Select Investors  \n",
       "782        Paradigm, Andreessen Horowitz, Jump Capital  \n",
       "714     Phoenix New Media, Tianjin Haihe Industry Fund  \n",
       "822  Chiratae Ventures, SoftBank Group, Trifecta Ca...  \n",
       "554  Lightspeed Venture Partners, Almaz Capital Par...  \n",
       "952  Andreessen Horowitz, FTX Ventures, Tiger Globa...  \n",
       "314            Mubadala Capital, Bond, Prosus Ventures  \n",
       "864  Andreessen Horowitz, Coinbase Ventures, Tiger ...  \n",
       "238  Andreessen Horowitz, Thrive Capital, Sound Ven...  \n",
       "775    GGV Capital, Tiger Global Management, Greycroft  \n",
       "967  Accel, Falcon Edge Capital, Norwest Venture Pa...  "
      ]
     },
     "execution_count": 12,
     "metadata": {},
     "output_type": "execute_result"
    }
   ],
   "source": [
    "# Ordino `companies` e visualizzo le prime 10 righe\n",
    "# dal più recente al meno recente per anno di fondazione\n",
    "\n",
    "companies.sort_values(by=\"Year Founded\", ascending=False).head(10)\n"
   ]
  },
  {
   "cell_type": "markdown",
   "metadata": {
    "id": "95ICE9dXHWZY"
   },
   "source": [
    "### Determinare il numero di aziende fondate ogni anno\n",
    "\n",
    "Desidero scoprire quante aziende in questo dataset sono state fondate ogni anno. "
   ]
  },
  {
   "cell_type": "code",
   "execution_count": 13,
   "metadata": {
    "colab": {
     "base_uri": "https://localhost:8080/"
    },
    "executionInfo": {
     "elapsed": 328,
     "status": "ok",
     "timestamp": 1661926564301,
     "user": {
      "displayName": "Kate Gallo",
      "userId": "14674822575096962937"
     },
     "user_tz": -540
    },
    "id": "_ZzafpsJ_VQ_",
    "outputId": "50304491-2be8-4a85-f32e-1fc05773d995"
   },
   "outputs": [
    {
     "data": {
      "text/plain": [
       "2015    155\n",
       "2016    110\n",
       "2014    109\n",
       "2012     95\n",
       "2013     87\n",
       "2011     82\n",
       "2017     74\n",
       "2018     61\n",
       "2019     45\n",
       "2010     40\n",
       "2009     34\n",
       "2008     27\n",
       "2020     25\n",
       "2007     24\n",
       "2006     15\n",
       "2005     14\n",
       "2000     11\n",
       "2021     11\n",
       "2001      9\n",
       "1999      8\n",
       "2004      8\n",
       "2003      8\n",
       "1998      5\n",
       "2002      4\n",
       "1994      2\n",
       "1995      2\n",
       "1992      1\n",
       "1993      1\n",
       "1990      1\n",
       "1984      1\n",
       "1996      1\n",
       "1979      1\n",
       "1991      1\n",
       "1919      1\n",
       "1997      1\n",
       "Name: Year Founded, dtype: int64"
      ]
     },
     "execution_count": 13,
     "metadata": {},
     "output_type": "execute_result"
    }
   ],
   "source": [
    "# Visualizzo il numero di aziende fondate in ogni anno\n",
    "\n",
    "companies[\"Year Founded\"].value_counts().sort_values(ascending=False)\n"
   ]
  },
  {
   "cell_type": "markdown",
   "metadata": {
    "id": "rpMFZQqpJYW6"
   },
   "source": [
    "- Il 2015 ha il conteggio più alto. Ciò indica che il 2015 è l'anno in cui è stato fondato il maggior numero di aziende in questo set di dati."
   ]
  },
  {
   "cell_type": "markdown",
   "metadata": {},
   "source": [
    "Traccia un istogramma per `Year Founded`."
   ]
  },
  {
   "cell_type": "code",
   "execution_count": 14,
   "metadata": {},
   "outputs": [
    {
     "data": {
      "image/png": "[encoded data removed]",
      "text/plain": [
       "<Figure size 432x288 with 1 Axes>"
      ]
     },
     "metadata": {
      "needs_background": "light"
     },
     "output_type": "display_data"
    }
   ],
   "source": [
    "sns.histplot(data=companies, x='Year Founded')\n",
    "plt.title('Year Founded histogram');"
   ]
  },
  {
   "cell_type": "markdown",
   "metadata": {},
   "source": [
    "#### Insight principali\n",
    "- La maggior parte delle aziende unicorno è stata fondata tra il 2010 e il 2018, con un picco significativo proprio in questo periodo.\n",
    "\n",
    "- Il numero di nuove aziende unicorno è cresciuto in modo esponenziale a partire dagli anni 2000, suggerendo un'accelerazione nella creazione di queste società.\n",
    "\n",
    "- La fondazione di aziende unicorno prima del 2000 è molto rara, con solo un paio di casi isolati, a dimostrazione che il fenomeno è legato a un contesto economico e tecnologico moderno."
   ]
  },
  {
   "cell_type": "markdown",
   "metadata": {
    "id": "94b53c7f-54d8-4d1a-ae07-7c28c2ab8f5b",
    "tags": []
   },
   "source": [
    "### Conversione della colonna `Date Joined` in datetime\n",
    "\n",
    "Converto la colonna `Date Joined` in datetime. Questo suddividerà ogni valore nelle componenti anno, mese e data, consentendomi in seguito di ottenere informazioni su quando un'azienda ha ottenuto lo status di unicorno rispetto a ciascuna componente."
   ]
  },
  {
   "cell_type": "code",
   "execution_count": 15,
   "metadata": {
    "colab": {
     "base_uri": "https://localhost:8080/"
    },
    "executionInfo": {
     "elapsed": 454,
     "status": "ok",
     "timestamp": 1661926584527,
     "user": {
      "displayName": "Kate Gallo",
      "userId": "14674822575096962937"
     },
     "user_tz": -540
    },
    "id": "afe607c8-9dd7-47c3-9fc8-88772f015e2b",
    "outputId": "041f6664-b5b5-4e5d-fe1e-de6fb35ba23f"
   },
   "outputs": [
    {
     "data": {
      "text/plain": [
       "Company                     object\n",
       "Valuation                   object\n",
       "Date Joined         datetime64[ns]\n",
       "Industry                    object\n",
       "City                        object\n",
       "Country/Region              object\n",
       "Continent                   object\n",
       "Year Founded                 int64\n",
       "Funding                     object\n",
       "Select Investors            object\n",
       "dtype: object"
      ]
     },
     "execution_count": 15,
     "metadata": {},
     "output_type": "execute_result"
    }
   ],
   "source": [
    "# Converto Date Joined in datime\n",
    "# Aggiorno la colonna con i valori convertiti\n",
    "\n",
    "companies[\"Date Joined\"] = pd.to_datetime(companies[\"Date Joined\"])\n",
    "\n",
    "# Visualizzare i tipi di dati delle colonne in `companies`\n",
    "# per confermare che l'aggiornamento sia effettivamente avvenuto\n",
    "\n",
    "companies.dtypes"
   ]
  },
  {
   "cell_type": "markdown",
   "metadata": {
    "id": "ae351a97-926e-40af-91e2-4bd12a5bf888",
    "tags": []
   },
   "source": [
    "### Creare una colonna `Month Joined`\n",
    "\n",
    "Creerò una nuova colonna, `Month Joined`, che conterrà i nomi dei mesi in cui le aziende sono diventate unicorno."
   ]
  },
  {
   "cell_type": "code",
   "execution_count": 16,
   "metadata": {
    "colab": {
     "base_uri": "https://localhost:8080/",
     "height": 354
    },
    "executionInfo": {
     "elapsed": 313,
     "status": "ok",
     "timestamp": 1661926596265,
     "user": {
      "displayName": "Kate Gallo",
      "userId": "14674822575096962937"
     },
     "user_tz": -540
    },
    "id": "PFBo2wdQU6U1",
    "outputId": "0f16a675-fee7-45c0-a976-254860f3461a"
   },
   "outputs": [
    {
     "data": {
      "text/html": [
       "<div>\n",
       "<style scoped>\n",
       "    .dataframe tbody tr th:only-of-type {\n",
       "        vertical-align: middle;\n",
       "    }\n",
       "\n",
       "    .dataframe tbody tr th {\n",
       "        vertical-align: top;\n",
       "    }\n",
       "\n",
       "    .dataframe thead th {\n",
       "        text-align: right;\n",
       "    }\n",
       "</style>\n",
       "<table border=\"1\" class=\"dataframe\">\n",
       "  <thead>\n",
       "    <tr style=\"text-align: right;\">\n",
       "      <th></th>\n",
       "      <th>Company</th>\n",
       "      <th>Valuation</th>\n",
       "      <th>Date Joined</th>\n",
       "      <th>Industry</th>\n",
       "      <th>City</th>\n",
       "      <th>Country/Region</th>\n",
       "      <th>Continent</th>\n",
       "      <th>Year Founded</th>\n",
       "      <th>Funding</th>\n",
       "      <th>Select Investors</th>\n",
       "      <th>Month Joined</th>\n",
       "    </tr>\n",
       "  </thead>\n",
       "  <tbody>\n",
       "    <tr>\n",
       "      <th>0</th>\n",
       "      <td>Bytedance</td>\n",
       "      <td>$180B</td>\n",
       "      <td>2017-04-07</td>\n",
       "      <td>Artificial intelligence</td>\n",
       "      <td>Beijing</td>\n",
       "      <td>China</td>\n",
       "      <td>Asia</td>\n",
       "      <td>2012</td>\n",
       "      <td>$8B</td>\n",
       "      <td>Sequoia Capital China, SIG Asia Investments, S...</td>\n",
       "      <td>April</td>\n",
       "    </tr>\n",
       "    <tr>\n",
       "      <th>1</th>\n",
       "      <td>SpaceX</td>\n",
       "      <td>$100B</td>\n",
       "      <td>2012-12-01</td>\n",
       "      <td>Other</td>\n",
       "      <td>Hawthorne</td>\n",
       "      <td>United States</td>\n",
       "      <td>North America</td>\n",
       "      <td>2002</td>\n",
       "      <td>$7B</td>\n",
       "      <td>Founders Fund, Draper Fisher Jurvetson, Rothen...</td>\n",
       "      <td>December</td>\n",
       "    </tr>\n",
       "    <tr>\n",
       "      <th>2</th>\n",
       "      <td>SHEIN</td>\n",
       "      <td>$100B</td>\n",
       "      <td>2018-07-03</td>\n",
       "      <td>E-commerce &amp; direct-to-consumer</td>\n",
       "      <td>Shenzhen</td>\n",
       "      <td>China</td>\n",
       "      <td>Asia</td>\n",
       "      <td>2008</td>\n",
       "      <td>$2B</td>\n",
       "      <td>Tiger Global Management, Sequoia Capital China...</td>\n",
       "      <td>July</td>\n",
       "    </tr>\n",
       "    <tr>\n",
       "      <th>3</th>\n",
       "      <td>Stripe</td>\n",
       "      <td>$95B</td>\n",
       "      <td>2014-01-23</td>\n",
       "      <td>Fintech</td>\n",
       "      <td>San Francisco</td>\n",
       "      <td>United States</td>\n",
       "      <td>North America</td>\n",
       "      <td>2010</td>\n",
       "      <td>$2B</td>\n",
       "      <td>Khosla Ventures, LowercaseCapital, capitalG</td>\n",
       "      <td>January</td>\n",
       "    </tr>\n",
       "    <tr>\n",
       "      <th>4</th>\n",
       "      <td>Klarna</td>\n",
       "      <td>$46B</td>\n",
       "      <td>2011-12-12</td>\n",
       "      <td>Fintech</td>\n",
       "      <td>Stockholm</td>\n",
       "      <td>Sweden</td>\n",
       "      <td>Europe</td>\n",
       "      <td>2005</td>\n",
       "      <td>$4B</td>\n",
       "      <td>Institutional Venture Partners, Sequoia Capita...</td>\n",
       "      <td>December</td>\n",
       "    </tr>\n",
       "  </tbody>\n",
       "</table>\n",
       "</div>"
      ],
      "text/plain": [
       "     Company Valuation Date Joined                         Industry  \\\n",
       "0  Bytedance     $180B  2017-04-07          Artificial intelligence   \n",
       "1     SpaceX     $100B  2012-12-01                            Other   \n",
       "2      SHEIN     $100B  2018-07-03  E-commerce & direct-to-consumer   \n",
       "3     Stripe      $95B  2014-01-23                          Fintech   \n",
       "4     Klarna      $46B  2011-12-12                          Fintech   \n",
       "\n",
       "            City Country/Region      Continent  Year Founded Funding  \\\n",
       "0        Beijing          China           Asia          2012     $8B   \n",
       "1      Hawthorne  United States  North America          2002     $7B   \n",
       "2       Shenzhen          China           Asia          2008     $2B   \n",
       "3  San Francisco  United States  North America          2010     $2B   \n",
       "4      Stockholm         Sweden         Europe          2005     $4B   \n",
       "\n",
       "                                    Select Investors Month Joined  \n",
       "0  Sequoia Capital China, SIG Asia Investments, S...        April  \n",
       "1  Founders Fund, Draper Fisher Jurvetson, Rothen...     December  \n",
       "2  Tiger Global Management, Sequoia Capital China...         July  \n",
       "3        Khosla Ventures, LowercaseCapital, capitalG      January  \n",
       "4  Institutional Venture Partners, Sequoia Capita...     December  "
      ]
     },
     "execution_count": 16,
     "metadata": {},
     "output_type": "execute_result"
    }
   ],
   "source": [
    "companies[\"Month Joined\"] = companies[\"Date Joined\"].dt.month_name()\n",
    "\n",
    "companies.head()"
   ]
  },
  {
   "cell_type": "markdown",
   "metadata": {
    "id": "6xTyzHiM8_Yf",
    "tags": []
   },
   "source": [
    "### Creazione di una colonna \"Anni di adesione\"\n",
    "\n",
    "Ora calcolerò il tempo impiegato dalle aziende per raggiungere lo status di unicorno. Userò questo risultato per creare una nuova colonna, \"Year To Join\". L'aggiunta di questa colonna al dataset mi sarà utile per rispondere a domande specifiche su questo aspetto del ciclo di vita delle aziende."
   ]
  },
  {
   "cell_type": "code",
   "execution_count": 17,
   "metadata": {
    "colab": {
     "base_uri": "https://localhost:8080/",
     "height": 354
    },
    "executionInfo": {
     "elapsed": 316,
     "status": "ok",
     "timestamp": 1661926618295,
     "user": {
      "displayName": "Kate Gallo",
      "userId": "14674822575096962937"
     },
     "user_tz": -540
    },
    "id": "9zK8Q7-v-Bx1",
    "outputId": "6349018d-f30d-4a51-f465-7a504b599918"
   },
   "outputs": [
    {
     "data": {
      "text/html": [
       "<div>\n",
       "<style scoped>\n",
       "    .dataframe tbody tr th:only-of-type {\n",
       "        vertical-align: middle;\n",
       "    }\n",
       "\n",
       "    .dataframe tbody tr th {\n",
       "        vertical-align: top;\n",
       "    }\n",
       "\n",
       "    .dataframe thead th {\n",
       "        text-align: right;\n",
       "    }\n",
       "</style>\n",
       "<table border=\"1\" class=\"dataframe\">\n",
       "  <thead>\n",
       "    <tr style=\"text-align: right;\">\n",
       "      <th></th>\n",
       "      <th>Company</th>\n",
       "      <th>Valuation</th>\n",
       "      <th>Date Joined</th>\n",
       "      <th>Industry</th>\n",
       "      <th>City</th>\n",
       "      <th>Country/Region</th>\n",
       "      <th>Continent</th>\n",
       "      <th>Year Founded</th>\n",
       "      <th>Funding</th>\n",
       "      <th>Select Investors</th>\n",
       "      <th>Month Joined</th>\n",
       "      <th>Years To Join</th>\n",
       "    </tr>\n",
       "  </thead>\n",
       "  <tbody>\n",
       "    <tr>\n",
       "      <th>0</th>\n",
       "      <td>Bytedance</td>\n",
       "      <td>$180B</td>\n",
       "      <td>2017-04-07</td>\n",
       "      <td>Artificial intelligence</td>\n",
       "      <td>Beijing</td>\n",
       "      <td>China</td>\n",
       "      <td>Asia</td>\n",
       "      <td>2012</td>\n",
       "      <td>$8B</td>\n",
       "      <td>Sequoia Capital China, SIG Asia Investments, S...</td>\n",
       "      <td>April</td>\n",
       "      <td>5</td>\n",
       "    </tr>\n",
       "    <tr>\n",
       "      <th>1</th>\n",
       "      <td>SpaceX</td>\n",
       "      <td>$100B</td>\n",
       "      <td>2012-12-01</td>\n",
       "      <td>Other</td>\n",
       "      <td>Hawthorne</td>\n",
       "      <td>United States</td>\n",
       "      <td>North America</td>\n",
       "      <td>2002</td>\n",
       "      <td>$7B</td>\n",
       "      <td>Founders Fund, Draper Fisher Jurvetson, Rothen...</td>\n",
       "      <td>December</td>\n",
       "      <td>10</td>\n",
       "    </tr>\n",
       "    <tr>\n",
       "      <th>2</th>\n",
       "      <td>SHEIN</td>\n",
       "      <td>$100B</td>\n",
       "      <td>2018-07-03</td>\n",
       "      <td>E-commerce &amp; direct-to-consumer</td>\n",
       "      <td>Shenzhen</td>\n",
       "      <td>China</td>\n",
       "      <td>Asia</td>\n",
       "      <td>2008</td>\n",
       "      <td>$2B</td>\n",
       "      <td>Tiger Global Management, Sequoia Capital China...</td>\n",
       "      <td>July</td>\n",
       "      <td>10</td>\n",
       "    </tr>\n",
       "    <tr>\n",
       "      <th>3</th>\n",
       "      <td>Stripe</td>\n",
       "      <td>$95B</td>\n",
       "      <td>2014-01-23</td>\n",
       "      <td>Fintech</td>\n",
       "      <td>San Francisco</td>\n",
       "      <td>United States</td>\n",
       "      <td>North America</td>\n",
       "      <td>2010</td>\n",
       "      <td>$2B</td>\n",
       "      <td>Khosla Ventures, LowercaseCapital, capitalG</td>\n",
       "      <td>January</td>\n",
       "      <td>4</td>\n",
       "    </tr>\n",
       "    <tr>\n",
       "      <th>4</th>\n",
       "      <td>Klarna</td>\n",
       "      <td>$46B</td>\n",
       "      <td>2011-12-12</td>\n",
       "      <td>Fintech</td>\n",
       "      <td>Stockholm</td>\n",
       "      <td>Sweden</td>\n",
       "      <td>Europe</td>\n",
       "      <td>2005</td>\n",
       "      <td>$4B</td>\n",
       "      <td>Institutional Venture Partners, Sequoia Capita...</td>\n",
       "      <td>December</td>\n",
       "      <td>6</td>\n",
       "    </tr>\n",
       "  </tbody>\n",
       "</table>\n",
       "</div>"
      ],
      "text/plain": [
       "     Company Valuation Date Joined                         Industry  \\\n",
       "0  Bytedance     $180B  2017-04-07          Artificial intelligence   \n",
       "1     SpaceX     $100B  2012-12-01                            Other   \n",
       "2      SHEIN     $100B  2018-07-03  E-commerce & direct-to-consumer   \n",
       "3     Stripe      $95B  2014-01-23                          Fintech   \n",
       "4     Klarna      $46B  2011-12-12                          Fintech   \n",
       "\n",
       "            City Country/Region      Continent  Year Founded Funding  \\\n",
       "0        Beijing          China           Asia          2012     $8B   \n",
       "1      Hawthorne  United States  North America          2002     $7B   \n",
       "2       Shenzhen          China           Asia          2008     $2B   \n",
       "3  San Francisco  United States  North America          2010     $2B   \n",
       "4      Stockholm         Sweden         Europe          2005     $4B   \n",
       "\n",
       "                                    Select Investors Month Joined  \\\n",
       "0  Sequoia Capital China, SIG Asia Investments, S...        April   \n",
       "1  Founders Fund, Draper Fisher Jurvetson, Rothen...     December   \n",
       "2  Tiger Global Management, Sequoia Capital China...         July   \n",
       "3        Khosla Ventures, LowercaseCapital, capitalG      January   \n",
       "4  Institutional Venture Partners, Sequoia Capita...     December   \n",
       "\n",
       "   Years To Join  \n",
       "0              5  \n",
       "1             10  \n",
       "2             10  \n",
       "3              4  \n",
       "4              6  "
      ]
     },
     "execution_count": 17,
     "metadata": {},
     "output_type": "execute_result"
    }
   ],
   "source": [
    "companies[\"Years To Join\"] = companies[\"Date Joined\"].dt.year - companies[\"Year Founded\"]\n",
    "\n",
    "companies.head()"
   ]
  },
  {
   "cell_type": "markdown",
   "metadata": {
    "id": "nx-WbHfLCdTd"
   },
   "source": [
    "### Maggiori informazioni su un anno specifico\n",
    "\n",
    "Per concentrarmi sull'anno 2021, **filtro** il dataset principale e salvo il sottoinsieme di dati in una nuova variabile per un'analisi più dettagliata."
   ]
  },
  {
   "cell_type": "code",
   "execution_count": 18,
   "metadata": {
    "colab": {
     "base_uri": "https://localhost:8080/",
     "height": 372
    },
    "executionInfo": {
     "elapsed": 323,
     "status": "ok",
     "timestamp": 1661926634746,
     "user": {
      "displayName": "Kate Gallo",
      "userId": "14674822575096962937"
     },
     "user_tz": -540
    },
    "id": "5FnSS5fBEUY-",
    "outputId": "ad939722-720c-4e35-8690-cdff7e0128be"
   },
   "outputs": [
    {
     "data": {
      "text/html": [
       "<div>\n",
       "<style scoped>\n",
       "    .dataframe tbody tr th:only-of-type {\n",
       "        vertical-align: middle;\n",
       "    }\n",
       "\n",
       "    .dataframe tbody tr th {\n",
       "        vertical-align: top;\n",
       "    }\n",
       "\n",
       "    .dataframe thead th {\n",
       "        text-align: right;\n",
       "    }\n",
       "</style>\n",
       "<table border=\"1\" class=\"dataframe\">\n",
       "  <thead>\n",
       "    <tr style=\"text-align: right;\">\n",
       "      <th></th>\n",
       "      <th>Company</th>\n",
       "      <th>Valuation</th>\n",
       "      <th>Date Joined</th>\n",
       "      <th>Industry</th>\n",
       "      <th>City</th>\n",
       "      <th>Country/Region</th>\n",
       "      <th>Continent</th>\n",
       "      <th>Year Founded</th>\n",
       "      <th>Funding</th>\n",
       "      <th>Select Investors</th>\n",
       "      <th>Month Joined</th>\n",
       "      <th>Years To Join</th>\n",
       "    </tr>\n",
       "  </thead>\n",
       "  <tbody>\n",
       "    <tr>\n",
       "      <th>12</th>\n",
       "      <td>FTX</td>\n",
       "      <td>$32B</td>\n",
       "      <td>2021-07-20</td>\n",
       "      <td>Fintech</td>\n",
       "      <td>NaN</td>\n",
       "      <td>Bahamas</td>\n",
       "      <td>North America</td>\n",
       "      <td>2018</td>\n",
       "      <td>$2B</td>\n",
       "      <td>Sequoia Capital, Thoma Bravo, Softbank</td>\n",
       "      <td>July</td>\n",
       "      <td>3</td>\n",
       "    </tr>\n",
       "    <tr>\n",
       "      <th>16</th>\n",
       "      <td>J&amp;T Express</td>\n",
       "      <td>$20B</td>\n",
       "      <td>2021-04-07</td>\n",
       "      <td>Supply chain, logistics, &amp; delivery</td>\n",
       "      <td>Jakarta</td>\n",
       "      <td>Indonesia</td>\n",
       "      <td>Asia</td>\n",
       "      <td>2015</td>\n",
       "      <td>$5B</td>\n",
       "      <td>Hillhouse Capital Management, Boyu Capital, Se...</td>\n",
       "      <td>April</td>\n",
       "      <td>6</td>\n",
       "    </tr>\n",
       "    <tr>\n",
       "      <th>24</th>\n",
       "      <td>Blockchain.com</td>\n",
       "      <td>$14B</td>\n",
       "      <td>2021-02-17</td>\n",
       "      <td>Fintech</td>\n",
       "      <td>London</td>\n",
       "      <td>United Kingdom</td>\n",
       "      <td>Europe</td>\n",
       "      <td>2011</td>\n",
       "      <td>$490M</td>\n",
       "      <td>Lightspeed Venture Partners, Google Ventures, ...</td>\n",
       "      <td>February</td>\n",
       "      <td>10</td>\n",
       "    </tr>\n",
       "    <tr>\n",
       "      <th>27</th>\n",
       "      <td>OpenSea</td>\n",
       "      <td>$13B</td>\n",
       "      <td>2021-07-20</td>\n",
       "      <td>E-commerce &amp; direct-to-consumer</td>\n",
       "      <td>New York</td>\n",
       "      <td>United States</td>\n",
       "      <td>North America</td>\n",
       "      <td>2017</td>\n",
       "      <td>$427M</td>\n",
       "      <td>Andreessen Horowitz, Thirty Five Ventures, Sou...</td>\n",
       "      <td>July</td>\n",
       "      <td>4</td>\n",
       "    </tr>\n",
       "    <tr>\n",
       "      <th>34</th>\n",
       "      <td>Getir</td>\n",
       "      <td>$12B</td>\n",
       "      <td>2021-03-26</td>\n",
       "      <td>E-commerce &amp; direct-to-consumer</td>\n",
       "      <td>Istanbul</td>\n",
       "      <td>Turkey</td>\n",
       "      <td>Europe</td>\n",
       "      <td>2015</td>\n",
       "      <td>$2B</td>\n",
       "      <td>Tiger Global Management, Sequoia Capital, Revo...</td>\n",
       "      <td>March</td>\n",
       "      <td>6</td>\n",
       "    </tr>\n",
       "  </tbody>\n",
       "</table>\n",
       "</div>"
      ],
      "text/plain": [
       "           Company Valuation Date Joined                             Industry  \\\n",
       "12             FTX      $32B  2021-07-20                              Fintech   \n",
       "16     J&T Express      $20B  2021-04-07  Supply chain, logistics, & delivery   \n",
       "24  Blockchain.com      $14B  2021-02-17                              Fintech   \n",
       "27         OpenSea      $13B  2021-07-20      E-commerce & direct-to-consumer   \n",
       "34           Getir      $12B  2021-03-26      E-commerce & direct-to-consumer   \n",
       "\n",
       "        City  Country/Region      Continent  Year Founded Funding  \\\n",
       "12       NaN         Bahamas  North America          2018     $2B   \n",
       "16   Jakarta       Indonesia           Asia          2015     $5B   \n",
       "24    London  United Kingdom         Europe          2011   $490M   \n",
       "27  New York   United States  North America          2017   $427M   \n",
       "34  Istanbul          Turkey         Europe          2015     $2B   \n",
       "\n",
       "                                     Select Investors Month Joined  \\\n",
       "12             Sequoia Capital, Thoma Bravo, Softbank         July   \n",
       "16  Hillhouse Capital Management, Boyu Capital, Se...        April   \n",
       "24  Lightspeed Venture Partners, Google Ventures, ...     February   \n",
       "27  Andreessen Horowitz, Thirty Five Ventures, Sou...         July   \n",
       "34  Tiger Global Management, Sequoia Capital, Revo...        March   \n",
       "\n",
       "    Years To Join  \n",
       "12              3  \n",
       "16              6  \n",
       "24             10  \n",
       "27              4  \n",
       "34              6  "
      ]
     },
     "execution_count": 18,
     "metadata": {},
     "output_type": "execute_result"
    }
   ],
   "source": [
    "companies_2021 = companies[companies[\"Date Joined\"].dt.year == 2021]\n",
    "\n",
    "companies_2021.head()"
   ]
  },
  {
   "cell_type": "markdown",
   "metadata": {
    "id": "xMeC4PjILkAP"
   },
   "source": [
    "### Tendenze nel tempo"
   ]
  },
  {
   "cell_type": "markdown",
   "metadata": {},
   "source": [
    "Dopo aver individuato l'intervallo di tempo che mi interessa, procederò così:\n",
    "\n",
    "1.  **Isolo il sottoinsieme** dell'anno che ho definito, aggiungendo una colonna che specifica a quale intervallo di tempo appartiene ogni dato.\n",
    "2.  **Raggruppo** le aziende in base a questo intervallo, **contando** quante ne hanno acquisito lo status di unicorno in ogni periodo.\n",
    "3.  **Salvo** il risultato in un nuovo DataFrame."
   ]
  },
  {
   "cell_type": "code",
   "execution_count": 19,
   "metadata": {
    "colab": {
     "base_uri": "https://localhost:8080/",
     "height": 206
    },
    "executionInfo": {
     "elapsed": 304,
     "status": "ok",
     "timestamp": 1661926659691,
     "user": {
      "displayName": "Kate Gallo",
      "userId": "14674822575096962937"
     },
     "user_tz": -540
    },
    "id": "RTPw3cRqPUI3",
    "outputId": "8f1c7b20-c3d0-4539-f257-8183cc9245cc"
   },
   "outputs": [
    {
     "data": {
      "text/html": [
       "<div>\n",
       "<style scoped>\n",
       "    .dataframe tbody tr th:only-of-type {\n",
       "        vertical-align: middle;\n",
       "    }\n",
       "\n",
       "    .dataframe tbody tr th {\n",
       "        vertical-align: top;\n",
       "    }\n",
       "\n",
       "    .dataframe thead th {\n",
       "        text-align: right;\n",
       "    }\n",
       "</style>\n",
       "<table border=\"1\" class=\"dataframe\">\n",
       "  <thead>\n",
       "    <tr style=\"text-align: right;\">\n",
       "      <th></th>\n",
       "      <th>Week Joined</th>\n",
       "      <th>Company Count</th>\n",
       "    </tr>\n",
       "  </thead>\n",
       "  <tbody>\n",
       "    <tr>\n",
       "      <th>0</th>\n",
       "      <td>2021-W01</td>\n",
       "      <td>12</td>\n",
       "    </tr>\n",
       "    <tr>\n",
       "      <th>1</th>\n",
       "      <td>2021-W02</td>\n",
       "      <td>9</td>\n",
       "    </tr>\n",
       "    <tr>\n",
       "      <th>2</th>\n",
       "      <td>2021-W03</td>\n",
       "      <td>5</td>\n",
       "    </tr>\n",
       "    <tr>\n",
       "      <th>3</th>\n",
       "      <td>2021-W04</td>\n",
       "      <td>8</td>\n",
       "    </tr>\n",
       "    <tr>\n",
       "      <th>4</th>\n",
       "      <td>2021-W05</td>\n",
       "      <td>4</td>\n",
       "    </tr>\n",
       "  </tbody>\n",
       "</table>\n",
       "</div>"
      ],
      "text/plain": [
       "  Week Joined  Company Count\n",
       "0    2021-W01             12\n",
       "1    2021-W02              9\n",
       "2    2021-W03              5\n",
       "3    2021-W04              8\n",
       "4    2021-W05              4"
      ]
     },
     "execution_count": 19,
     "metadata": {},
     "output_type": "execute_result"
    }
   ],
   "source": [
    "# aggiunge una nuova colonna chiamata Week Joined al DataFrame companies_2021 \n",
    "# nella posizione 3. I valori di questa nuova colonna sono le settimane dell'anno, \n",
    "# estratte dalla colonna Date Joined e formattate come anno e \n",
    "# numero della settimana (es. 2021-W05)\n",
    "\n",
    "companies_2021.insert(3, \"Week Joined\", companies_2021[\"Date Joined\"].dt.strftime('%Y-W%V'), True)\n",
    "\n",
    "# Raggruppa le aziende del 2021 per settimana, \n",
    "# conta quante sono diventate unicorno ogni settimana \n",
    "# e salva il risultato in un nuovo DataFrame.\n",
    "companies_by_week_2021 = companies_2021.groupby(by=\"Week Joined\")[\"Company\"].count().reset_index().rename(columns={\"Company\":\"Company Count\"})\n",
    "\n",
    "# check\n",
    "companies_by_week_2021.head()\n"
   ]
  },
  {
   "cell_type": "markdown",
   "metadata": {
    "id": "5vGITCLaA7lC"
   },
   "source": [
    "### Confrontare i trend nel tempo\n",
    "\n",
    "Procedo così:\n",
    "\n",
    "1.  **Filtro** i dati per l'anno aggiuntivo (2020), creando un nuovo sottoinsieme.\n",
    "2.  **Concateno** questo nuovo sottoinsieme con quello che avevo già definito.\n",
    "3.  **Aggiungo** una colonna che indica l'intervallo di tempo (es. settimana o mese) per ogni dato nel DataFrame unito.\n",
    "4.  **Trasformo** la colonna `Valuation` \n",
    "5.  **Raggruppo** il DataFrame per intervallo di tempo e **calcolo la valutazione media** delle aziende che si sono unite in ogni intervallo.\n",
    "6.  Infine, **salvo** il risultato in una nuova variabile.\n"
   ]
  },
  {
   "cell_type": "code",
   "execution_count": 20,
   "metadata": {
    "colab": {
     "base_uri": "https://localhost:8080/",
     "height": 206
    },
    "executionInfo": {
     "elapsed": 314,
     "status": "ok",
     "timestamp": 1661926947324,
     "user": {
      "displayName": "Kate Gallo",
      "userId": "14674822575096962937"
     },
     "user_tz": -540
    },
    "id": "pQ3sXSbaA7lD",
    "outputId": "cd7dd2bc-3268-4e15-a9dd-b376670f2196"
   },
   "outputs": [
    {
     "data": {
      "text/html": [
       "<div>\n",
       "<style scoped>\n",
       "    .dataframe tbody tr th:only-of-type {\n",
       "        vertical-align: middle;\n",
       "    }\n",
       "\n",
       "    .dataframe tbody tr th {\n",
       "        vertical-align: top;\n",
       "    }\n",
       "\n",
       "    .dataframe thead th {\n",
       "        text-align: right;\n",
       "    }\n",
       "</style>\n",
       "<table border=\"1\" class=\"dataframe\">\n",
       "  <thead>\n",
       "    <tr style=\"text-align: right;\">\n",
       "      <th></th>\n",
       "      <th>Quarter Joined</th>\n",
       "      <th>Average Valuation</th>\n",
       "    </tr>\n",
       "  </thead>\n",
       "  <tbody>\n",
       "    <tr>\n",
       "      <th>0</th>\n",
       "      <td>2020-Q1</td>\n",
       "      <td>3.444444</td>\n",
       "    </tr>\n",
       "    <tr>\n",
       "      <th>1</th>\n",
       "      <td>2020-Q2</td>\n",
       "      <td>3.777778</td>\n",
       "    </tr>\n",
       "    <tr>\n",
       "      <th>2</th>\n",
       "      <td>2020-Q3</td>\n",
       "      <td>3.896552</td>\n",
       "    </tr>\n",
       "    <tr>\n",
       "      <th>3</th>\n",
       "      <td>2020-Q4</td>\n",
       "      <td>3.697674</td>\n",
       "    </tr>\n",
       "    <tr>\n",
       "      <th>4</th>\n",
       "      <td>2021-Q1</td>\n",
       "      <td>2.750000</td>\n",
       "    </tr>\n",
       "  </tbody>\n",
       "</table>\n",
       "</div>"
      ],
      "text/plain": [
       "  Quarter Joined  Average Valuation\n",
       "0        2020-Q1           3.444444\n",
       "1        2020-Q2           3.777778\n",
       "2        2020-Q3           3.896552\n",
       "3        2020-Q4           3.697674\n",
       "4        2021-Q1           2.750000"
      ]
     },
     "execution_count": 20,
     "metadata": {},
     "output_type": "execute_result"
    }
   ],
   "source": [
    "# # Filtra in base all'anno aggiuntivo per creare un \n",
    "# sottoinsieme composto dalle aziende che hanno aderito in quell'anno.\n",
    "companies_2020 = companies[companies[\"Date Joined\"].dt.year == 2020]\n",
    "\n",
    "# Concatena il nuovo sottoinsieme con il sottoinsieme definito in precedenza.\n",
    "companies_2020_2021 = pd.concat([companies_2020, companies_2021.drop(columns=\"Week Joined\")])\n",
    "\n",
    "# Aggiunge la colonna `Quarter Joined` a `companies_2021`.\n",
    "companies_2020_2021[\"Quarter Joined\"] = companies_2020_2021[\"Date Joined\"].dt.to_period('Q').dt.strftime('%Y-Q%q')\n",
    "\n",
    "# Converte la colonna `Valuation` in numerico rimuovendo `$` e `B` e\n",
    "# convertendo ogni valore nel tipo di dati `float`.\n",
    "companies_2020_2021[\"Valuation\"] =  companies_2020_2021[\"Valuation\"].str.strip(\"$B\").astype(float)\n",
    "\n",
    "# Raggruppa `companies_2020_2021` per `Quarter Joined`,\n",
    "# Aggrega calcolando la media dei `Finanziamenti` delle aziende \n",
    "# che hanno aderito per trimestre di ogni anno.\n",
    "# Salva il DataFrame risultante in una nuova variabile.\n",
    "companies_by_quarter_2020_2021 = companies_2020_2021.groupby(by=\"Quarter Joined\")[\"Valuation\"].mean().reset_index().rename(columns={\"Valuation\":\"Average Valuation\"})\n",
    "\n",
    "# Check\n",
    "companies_by_quarter_2020_2021.head()\n"
   ]
  },
  {
   "cell_type": "markdown",
   "metadata": {
    "id": "-Z9xHIMjIQ9x"
   },
   "source": [
    "## Fase 3: Visualizzazione del tempo impiegato dalle aziende per diventare unicorni\n",
    "\n",
    "### Visualizza il tempo impiegato dalle aziende per diventare unicorni\n",
    "\n",
    "Userò un **box plot** per visualizzare e confrontare la distribuzione del tempo impiegato dalle aziende per diventare unicorno, suddiviso per ogni mese dell'anno in cui hanno ottenuto questo status."
   ]
  },
  {
   "cell_type": "code",
   "execution_count": 21,
   "metadata": {
    "colab": {
     "base_uri": "https://localhost:8080/"
    },
    "executionInfo": {
     "elapsed": 300,
     "status": "ok",
     "timestamp": 1661926807262,
     "user": {
      "displayName": "Kate Gallo",
      "userId": "14674822575096962937"
     },
     "user_tz": -540
    },
    "id": "4GT0qtPUIlzD",
    "outputId": "e3434164-6e22-4b2c-d4a4-0a7628a58214"
   },
   "outputs": [
    {
     "name": "stdout",
     "output_type": "stream",
     "text": [
      "['January', 'February', 'March', 'April', 'May', 'June', 'July', 'August', 'September', 'October', 'November', 'December']\n"
     ]
    }
   ],
   "source": [
    "# Definire una lista che contiene i mesi in ordine cronologico.\n",
    "month_order = [\"January\", \"February\", \"March\", \"April\", \"May\", \"June\",\n",
    "               \"July\", \"August\", \"September\", \"October\", \"November\", \n",
    "               \"December\"]\n",
    "\n",
    "#Check\n",
    "print(month_order)\n",
    "            "
   ]
  },
  {
   "cell_type": "code",
   "execution_count": 22,
   "metadata": {
    "colab": {
     "base_uri": "https://localhost:8080/",
     "height": 331
    },
    "executionInfo": {
     "elapsed": 869,
     "status": "ok",
     "timestamp": 1661926823704,
     "user": {
      "displayName": "Kate Gallo",
      "userId": "14674822575096962937"
     },
     "user_tz": -540
    },
    "id": "7V-NPXUCIhCT",
    "outputId": "38b48c42-a567-4ea7-92de-634c2dc5bf34"
   },
   "outputs": [
    {
     "data": {
      "image/png": "[encoded data removed]",
      "text/plain": [
       "<Figure size 432x288 with 1 Axes>"
      ]
     },
     "metadata": {
      "needs_background": "light"
     },
     "output_type": "display_data"
    }
   ],
   "source": [
    "# Creazione del box plot per visualizzare la distribuzione del tempo impiegato \n",
    "# dalle aziende per diventare unicorni, in base al mese di adesione.\n",
    "sns.boxplot(x=companies['Month Joined'], \n",
    "            y=companies['Years To Join'], \n",
    "            order=month_order, \n",
    "            showfliers=False)\n",
    "\n",
    "# Titolo grafico\n",
    "plt.title('Distribuzione degli anni per diventare unicorno rispetto al mese di fondazione')\n",
    "\n",
    "# Rotazione etichette\n",
    "plt.xticks(rotation=45, horizontalalignment='right')\n",
    "\n",
    "plt.show()\n"
   ]
  },
  {
   "cell_type": "markdown",
   "metadata": {
    "id": "hJhdI_Y7LK8e"
   },
   "source": [
    "Nel box plot, si nota che il **valore mediano del tempo** impiegato per diventare unicorno varia in base al mese in cui è stato raggiunto tale status.\n",
    "\n",
    "In particolare, i mesi di **settembre** e **ottobre** mostrano una mediana inferiore. Questo suggerisce che le aziende che hanno acquisito lo status di unicorno all'inizio dell'autunno hanno impiegato in media meno tempo per raggiungere la valutazione di 1 miliardo di dollari."
   ]
  },
  {
   "cell_type": "markdown",
   "metadata": {
    "id": "gq9Syq-Cq1zb"
   },
   "source": [
    "## Fase 4: Risultati e valutazione"
   ]
  },
  {
   "cell_type": "markdown",
   "metadata": {
    "id": "10beff64-16e0-464d-93f0-03ab61f7069b",
    "tags": []
   },
   "source": [
    "### Visualizzare il tempo impiegato dalle aziende per raggiungere lo status di unicorno\n",
    "\n",
    "In questa sezione valuterò i risultati della strutturazione, delle osservazioni e degli approfondimenti ottenuti dai dati.\n",
    "\n",
    "Utilizzando il dataset delle aziende, creerò un **grafico a barre** per visualizzare la media degli anni impiegati dalle aziende per raggiungere lo status di unicorno, partendo dalla loro fondazione."
   ]
  },
  {
   "cell_type": "code",
   "execution_count": 26,
   "metadata": {
    "colab": {
     "base_uri": "https://localhost:8080/",
     "height": 419
    },
    "executionInfo": {
     "elapsed": 1323,
     "status": "ok",
     "timestamp": 1661926855398,
     "user": {
      "displayName": "Kate Gallo",
      "userId": "14674822575096962937"
     },
     "user_tz": -540
    },
    "id": "1153ca76-f1e3-4fea-a2db-a5de23614abd",
    "outputId": "ed8bf63f-22bb-4d1a-ce58-883de82c65d7"
   },
   "outputs": [
    {
     "data": {
      "image/png": "[encoded data removed]",
      "text/plain": [
       "<Figure size 720x432 with 1 Axes>"
      ]
     },
     "metadata": {
      "needs_background": "light"
     },
     "output_type": "display_data"
    }
   ],
   "source": [
    "# Dimensione grafico\n",
    "\n",
    "plt.figure(figsize=(10,6))\n",
    "\n",
    "\n",
    "# Crea un grafico a barre per visualizzare il numero medio di anni \n",
    "# impiegati dalle aziende per raggiungere lo status di unicorno\n",
    "# rispetto alla loro fondazione.\n",
    "# Rappresenta graficamente i dati dal DataFrame `companies`.\n",
    "sns.barplot(x=companies[\"Year Founded\"], y=companies[\"Years To Join\"], ci=False)\n",
    "\n",
    "\n",
    "# Titolo\n",
    "plt.title(\"Grafico a barre degli anni di adesione rispetto all'anno di fondazione\")\n",
    "\n",
    "\n",
    "# Etichette asse x\n",
    "plt.xlabel(\"Anno di Fondazione\")\n",
    "\n",
    "\n",
    "# Set y-axis label\n",
    "\n",
    "### YOUR CODE HERE ###\n",
    "\n",
    "plt.ylabel(\"Anni per raggiungere lo status Unicorno\")\n",
    "\n",
    "\n",
    "# Rotazione etichette\n",
    "plt.xticks(rotation=45, horizontalalignment='right')\n",
    "\n",
    "plt.show()"
   ]
  },
  {
   "cell_type": "markdown",
   "metadata": {
    "id": "xDwKa-UDOmaX"
   },
   "source": [
    "L'analisi mostra che le aziende nate di recente sono diventate unicorno più velocemente. \n",
    "\n",
    "Tuttavia, bisogna prestare attenzione a un problema chiamato **bias temporale**. Le aziende più vecchie che hanno impiegato molto tempo per diventare unicorno sono tutte presenti nel nostro set di dati. Al contrario, per le aziende più recenti, il nostro dataset include **solo** quelle che hanno avuto una crescita rapidissima, poiché quelle a crescita lenta non hanno ancora avuto il tempo di raggiungere lo status di unicorno.\n",
    "\n",
    "In pratica, confrontando un gruppo selezionato di \"campioni veloci\" recenti con l'intera popolazione di aziende storiche, può dare l'illusione che la crescita sia in generale più veloce oggi.\n"
   ]
  },
  {
   "cell_type": "markdown",
   "metadata": {
    "id": "M9iBEnnStJPJ"
   },
   "source": [
    "### Numero di aziende per settimana del 2021\n",
    "\n",
    "Voglio visualizzare quante aziende sono diventate unicorno in ogni intervallo a ogni settimana nel corso del 2021. Per farlo, utilizzerò un **grafico a barre**."
   ]
  },
  {
   "cell_type": "code",
   "execution_count": 28,
   "metadata": {
    "colab": {
     "base_uri": "https://localhost:8080/",
     "height": 375
    },
    "executionInfo": {
     "elapsed": 811,
     "status": "ok",
     "timestamp": 1661926882914,
     "user": {
      "displayName": "Kate Gallo",
      "userId": "14674822575096962937"
     },
     "user_tz": -540
    },
    "id": "BTdJdubxplHc",
    "outputId": "9039d714-1179-40d9-f462-fd0300986ff0"
   },
   "outputs": [
    {
     "data": {
      "image/png": "[encoded data removed]",
      "text/plain": [
       "<Figure size 1440x360 with 1 Axes>"
      ]
     },
     "metadata": {
      "needs_background": "light"
     },
     "output_type": "display_data"
    }
   ],
   "source": [
    "#Dimensione del grafico\n",
    "plt.figure(figsize = (20, 5))\n",
    "\n",
    "# Crea un grafico a barre per visualizzare \n",
    "# il numero di aziende che hanno aderito per intervallo nell'anno 2021\n",
    "plt.bar(x=companies_by_week_2021['Week Joined'],height=companies_by_week_2021['Company Count'])\n",
    "plt.plot()\n",
    "\n",
    "# Etichette asse x\n",
    "plt.xlabel(\"Numero della settimana\")\n",
    "\n",
    "# Etichette asse y\n",
    "plt.ylabel(\"Numero di aziende\")\n",
    "\n",
    "# Titolo\n",
    "plt.title(\"Andamento Settimanale delle Aziende Unicorno nel 2021\")\n",
    "\n",
    "# Rotazione etichette asse x\n",
    "plt.xticks(rotation = 45, horizontalalignment='right', fontsize=8)\n",
    "\n",
    "\n",
    "\n",
    "plt.show()"
   ]
  },
  {
   "cell_type": "markdown",
   "metadata": {
    "id": "NEsKdFw8sdMJ"
   },
   "source": [
    "- **Osservazioni**:\n",
    "\n",
    "- Il numero di aziende che hanno raggiunto lo status di unicorno ha oscillato nel corso delle settimane del 2021, con un trend di calo seguito da un aumento periodico.\n",
    "- Il numero più elevato di aziende ha raggiunto una valutazione di 1 miliardo di dollari nella settimana 37 del 2021, che corrisponde alla terza settimana di settembre 2021.\n",
    "- Le settimane del 2021 con il numero successivo più elevato di aziende che sono diventate unicorno sono la settimana 12 (che corrisponde alla quarta settimana di marzo) e la settimana 28 (che corrisponde alla terza settimana di luglio).\n",
    "  "
   ]
  },
  {
   "cell_type": "markdown",
   "metadata": {
    "id": "izcgBCbZhC4w"
   },
   "source": [
    "### Valutazione media per trimestre\n",
    "\n",
    "In questa sezione, visualizzerò l'andamento della **valutazione media trimestrale** delle aziende che hanno raggiunto lo status di unicorno. Creerò un **grafico a barre raggruppato** che confronterà la valutazione media per ogni trimestre degli anni che mi interessano. Ogni trimestre avrà due barre, una per ciascun anno, in modo da poter visualizzare facilmente le differenze."
   ]
  },
  {
   "cell_type": "code",
   "execution_count": 29,
   "metadata": {
    "colab": {
     "base_uri": "https://localhost:8080/",
     "height": 350
    },
    "executionInfo": {
     "elapsed": 375,
     "status": "ok",
     "timestamp": 1661926957852,
     "user": {
      "displayName": "Kate Gallo",
      "userId": "14674822575096962937"
     },
     "user_tz": -540
    },
    "id": "IC1cFf2ci6Q6",
    "outputId": "dc717d8b-5d85-4748-cd38-66b0918c1827"
   },
   "outputs": [
    {
     "data": {
      "image/png": "[encoded data removed]",
      "text/plain": [
       "<Figure size 720x360 with 1 Axes>"
      ]
     },
     "metadata": {
      "needs_background": "light"
     },
     "output_type": "display_data"
    }
   ],
   "source": [
    "# Utilizzando lo slicing, estraggo la componente anno e l'intervallo di tempo specificato,\n",
    "# e li salvo aggiungendo due nuove colonne\n",
    "### YOUR CODE HERE ###\n",
    "\n",
    "companies_by_quarter_2020_2021['Quarter Number'] = companies_by_quarter_2020_2021['Quarter Joined'].str[-2:]\n",
    "companies_by_quarter_2020_2021['Year Joined'] = companies_by_quarter_2020_2021['Quarter Joined'].str[:4]\n",
    "\n",
    "# DImensione del grafico\n",
    "plt.figure(figsize = (10, 5))\n",
    "\n",
    "# Creazione di un grafico a barre raggruppate\n",
    "sns.barplot(x=companies_by_quarter_2020_2021['Quarter Number'],\n",
    "            y=companies_by_quarter_2020_2021['Average Valuation'],\n",
    "            hue=companies_by_quarter_2020_2021['Year Joined'])\n",
    "plt.plot()\n",
    "\n",
    "# etichette asse x\n",
    "plt.xlabel(\"Numero trimestre\")\n",
    "\n",
    "# etichette asse y\n",
    "plt.ylabel(\"Valutazione media (miliardi di dollari)\")\n",
    "\n",
    "# Titolo grafico\n",
    "plt.title(\"Valutazione media delle aziende diventate unicorni per trimestre nel 2020 rispetto al 2021\")\n",
    "\n",
    "\n",
    "plt.show()"
   ]
  },
  {
   "cell_type": "markdown",
   "metadata": {
    "id": "-JSttrHR4v77"
   },
   "source": [
    "### Osservazioni\n",
    "- In ciascun trimestre, la valutazione media delle aziende che hanno raggiunto lo status di unicorno è stata più alta nel 2020 rispetto al 2021.\n",
    "- Nel 2020, il terzo trimestre è stato il trimestre con la valutazione media più alta delle aziende che hanno raggiunto lo status di unicorno, con un trend in aumento dal primo al secondo trimestre e dal secondo al terzo trimestre.\n",
    "- Nel 2021, il primo trimestre è stato il trimestre con la valutazione media più alta delle aziende che hanno raggiunto lo status di unicorno, con un trend in calo nei trimestri."
   ]
  },
  {
   "cell_type": "markdown",
   "metadata": {
    "id": "CmStN_ox4wSs"
   },
   "source": [
    "Ci sono comunque diversi tipi di bias che potrebbero influenzare l'analisi dei dati, rendendo i risultati meno rappresentativi della realtà.\n",
    "\n",
    "- L'analisi potrebbe essere influenzata da un campionamento geografico non uniforme. Se i dati coprono principalmente determinate città o nazioni, le conclusioni potrebbero riflettere le tendenze di quelle aree, ignorando quelle di altre regioni non incluse.\n",
    "\n",
    "- Se il dataset non include tutti i settori, l'analisi risulterà rappresentativa solo delle industrie presenti. I trend osservati potrebbero non essere validi per i settori che sono stati esclusi.\n",
    "\n",
    "- Eventuali interruzioni o lacune nella raccolta dei dati possono distorcere i risultati, influenzando i pattern che si osservano nel tempo. Un altro bias temporale cruciale è che i dati sono più abbondanti per le aziende fondate anni fa rispetto a quelle più recenti, poiché le prime hanno avuto più tempo per maturare e generare dati."
   ]
  },
  {
   "cell_type": "markdown",
   "metadata": {
    "id": "c77e7f0f-d2b9-4464-8a7c-9575d1e1ef9f"
   },
   "source": [
    "### Raccomandazioni\n",
    "\n",
    "- Secondo un'analisi dei dati condotta su un dataset di 1074 aziende unicorno, le aziende che hanno aderito nei mesi di settembre e ottobre tendevano a impiegare meno tempo per diventare unicorni.\n",
    "- Un'altra scoperta è stata che molte delle aziende unicorno fondate nel 2021 sono state fondate negli Stati Uniti e appartengono ai settori \"Fintech\", \"E-commerce e direct-to-consumer\" e \"Software e servizi Internet\". Pertanto, se gli stakeholder desiderano investire in aziende fondate nel 2021, sarebbe opportuno considerare aziende appartenenti a questi settori, in quanto potrebbero essere ottime candidate a diventare unicorni.\n",
    "- È stato inoltre scoperto che la valutazione media delle aziende che hanno aderito nel 2021 è più alta nel primo trimestre dell'anno, mentre la valutazione media delle aziende che hanno aderito nel 2020 è nel terzo trimestre dell'anno. Quando si considerano le aziende che aderiranno di nuovo in futuro, varrebbe la pena analizzare attentamente quelle che aderiscono nel primo e nel terzo trimestre dell'anno.\n",
    "- I dati possono essere ulteriormente analizzati per raccogliere informazioni più specifiche sugli interessi della società di investimento e delle parti interessate."
   ]
  },
  {
   "cell_type": "markdown",
   "metadata": {
    "id": "9EsEVdiGF9XP"
   },
   "source": [
    "### Possibili passi successivi per future analisi EDA:\n",
    "\n",
    "- Analizzare i dati relativi ai settori delle aziende unicorno a diversi intervalli di tempo.\n",
    "- Analizzare i dati relativi alle città o ai paesi in cui sono state fondate le aziende unicorno a diversi intervalli di tempo."
   ]
  }
 ],
 "metadata": {
  "colab": {
   "collapsed_sections": [],
   "provenance": []
  },
  "kernelspec": {
   "display_name": "Python 3",
   "language": "python",
   "name": "python3"
  },
  "language_info": {
   "codemirror_mode": {
    "name": "ipython",
    "version": 3
   },
   "file_extension": ".py",
   "mimetype": "text/x-python",
   "name": "python",
   "nbconvert_exporter": "python",
   "pygments_lexer": "ipython3",
   "version": "3.7.6"
  },
  "toc-autonumbering": false,
  "toc-showtags": false
 },
 "nbformat": 4,
 "nbformat_minor": 5
}
